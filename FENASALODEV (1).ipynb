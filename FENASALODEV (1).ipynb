{
  "nbformat": 4,
  "nbformat_minor": 0,
  "metadata": {
    "colab": {
      "provenance": []
    },
    "kernelspec": {
      "name": "python3",
      "display_name": "Python 3"
    },
    "language_info": {
      "name": "python"
    }
  },
  "cells": [
    {
      "cell_type": "code",
      "execution_count": null,
      "metadata": {
        "colab": {
          "base_uri": "https://localhost:8080/"
        },
        "id": "u63V1hRBPe1c",
        "outputId": "bf88fdb7-2cd0-4813-9e3f-23a561be6aed"
      },
      "outputs": [
        {
          "output_type": "stream",
          "name": "stdout",
          "text": [
            "sayi gir: 13\n",
            "asalsayi\n"
          ]
        }
      ],
      "source": [
        "def sengulkalin(sayi):\n",
        "  if sayi <=1:\n",
        "    print(\" duzgun sayi gir\")\n",
        "  else:\n",
        "    for i in range(2,int(sayi)-1):\n",
        "       if sayi % i==0:\n",
        "        print(\"asal sayideil\")\n",
        "        break\n",
        "    else:\n",
        "        print(\"asalsayi\")\n",
        "\n",
        "sayi=int(input(\"sayi gir: \"))\n",
        "sengulkalin(sayi)\n"
      ]
    },
    {
      "cell_type": "code",
      "source": [
        "sengulkalin(2)"
      ],
      "metadata": {
        "colab": {
          "base_uri": "https://localhost:8080/"
        },
        "id": "v-EqxqQDW0Gi",
        "outputId": "b51f8e44-60c2-494a-df06-bbf6f68b0c22"
      },
      "execution_count": null,
      "outputs": [
        {
          "output_type": "stream",
          "name": "stdout",
          "text": [
            "asalsayi\n"
          ]
        }
      ]
    },
    {
      "cell_type": "code",
      "source": [
        "sengulkalin(31)"
      ],
      "metadata": {
        "colab": {
          "base_uri": "https://localhost:8080/"
        },
        "id": "8nkmE91FW4NV",
        "outputId": "730e23c1-fcdb-4ed9-f14a-a33f93804237"
      },
      "execution_count": null,
      "outputs": [
        {
          "output_type": "stream",
          "name": "stdout",
          "text": [
            "asalsayi\n"
          ]
        }
      ]
    },
    {
      "cell_type": "code",
      "source": [
        "import random\n",
        "def nil():\n",
        "  print(\"hosgeldin,1-100 arası bir sayı tuttum bilmen lazıms\")\n",
        "  tahmin_sayisi=random.randint(1,100)\n",
        "  while True:\n",
        "    try:\n",
        "      tahmin=int(input(\"tahmin yap:\"))\n",
        "      if tahmin < tahmin_sayisi:\n",
        "        print(\"tahminin sayidan küçük\")\n",
        "      elif tahmin > tahmin_sayisi:\n",
        "        print(\"tahminin sayidan buyuk\")\n",
        "      elif tahmin==tahmin_sayisi:\n",
        "        print(\"helal olsun kanziii\")\n",
        "        break\n",
        "    except ValueError:\n",
        "     print(\" sayı gir\")\n",
        "\n",
        "\n",
        "\n",
        "\n",
        "\n",
        "\n"
      ],
      "metadata": {
        "id": "t3rLr3jqXS-L"
      },
      "execution_count": null,
      "outputs": []
    },
    {
      "cell_type": "code",
      "source": [
        "nil()"
      ],
      "metadata": {
        "colab": {
          "base_uri": "https://localhost:8080/"
        },
        "id": "Lu1z540sbmDI",
        "outputId": "e1998074-c26b-481f-d3d9-2aca747a70a3"
      },
      "execution_count": null,
      "outputs": [
        {
          "output_type": "stream",
          "name": "stdout",
          "text": [
            "hosgeldin,1-100 arası bir sayı tuttum bilmen lazıms\n",
            "tahmin yap:31\n",
            "tahminin sayidan buyuk\n",
            "tahmin yap:27\n",
            "tahminin sayidan buyuk\n",
            "tahmin yap:26\n",
            "tahminin sayidan buyuk\n",
            "tahmin yap:23\n",
            "tahminin sayidan buyuk\n",
            "tahmin yap:12\n",
            "tahminin sayidan küçük\n",
            "tahmin yap:19\n",
            "tahminin sayidan buyuk\n",
            "tahmin yap:15\n",
            "tahminin sayidan buyuk\n",
            "tahmin yap:14\n",
            "tahminin sayidan buyuk\n",
            "tahmin yap:13\n",
            "helal olsun kanziii\n"
          ]
        }
      ]
    },
    {
      "cell_type": "code",
      "source": [
        "nil()"
      ],
      "metadata": {
        "colab": {
          "base_uri": "https://localhost:8080/"
        },
        "id": "Ty0uzt0wa2MC",
        "outputId": "f319b425-a8af-4f21-b4be-16e3af530b41"
      },
      "execution_count": null,
      "outputs": [
        {
          "output_type": "stream",
          "name": "stdout",
          "text": [
            "hosgeldin,1-100 arası bir sayı tuttum bilmen lazıms\n",
            "tahmin yap:49\n",
            "tahminin sayidan küçük\n",
            "tahmin yap:72\n",
            "tahminin sayidan buyuk\n",
            "tahmin yap:61\n",
            "helal olsun kanziii\n"
          ]
        }
      ]
    },
    {
      "cell_type": "code",
      "source": [
        "film_veritabani = {\"Recep İvedik 1\": {\"kategori\": [\"Komedi\"], \"aktorler\": [\"Sahan Gokbakar\"], \"yonetmen\": [\"Togan Gokbakar\"], \"yapim yili\": [\"2008\"]},\n",
        "                   \"Harry Potter:Felsefe tasi\": {\"kategori\": [\"Fantastik\"], \"aktorler\": [\"Daniel Radcliffe\"], \"yonetmen\": [\"Chris Columbus\"], \"yapim yili\": [\"2001\"]},\n",
        "                   \"Yuzuklerin Efendisi\": {\"kategori\": [\"Fantastik\"], \"aktorler\": [\"Elijah Wood\"], \"yonetmen\": [\"Peter Jackson\"], \"yapim yili\": [\"2001\"]},\n",
        "                   \"Aclik Oyunlari\": {\"kategori\": [\"Macera\"], \"Aktor\": [\"Josh Hutcherson\"], \"yonetmen\": [\"Gary Ross\"], \"yapimyili\": [\"2012\"]},\n",
        "                   \"Oppenheimer\": {\"Kategori\": [\"Gerilim\"], \"aktor\": [\"Cillian Murphy\"], \"yonetmen\": [\"Christopher Nolan\"], \"yapimyili\": [\"2023\"]},\n",
        "                   \"Aclik Oyunlari\": {\"Kategori\": [\"Polisiye\"], \"aktor\": [\"Al Pacino\"], \"yonetmen\": [\"Francis Ford Coppola\"], \"yapimyili\": [\"1972\"]},\n",
        "                   \"Recep İvedik 2\": {\"kategori\": [\"Komedi\"], \"aktorler\": [\"Sahan Gokbakar\"], \"yonetmen\": [\"Togan Gokbakar\"], \"yapim yili\": [\"2008\"]},\n",
        "                   \"Hababam Sinifi\": {\"Kategori\": [\"Komedi\"], \"aktor\": [\"Kemal Sunal\"], \"yonetmen\": [\"Ertem Egilmez\"], \"yapimyili\": [\"1974\"]},\n",
        "                   \"Interstellar\": {\"Kategori\": [\"Bilim Kurgu\"], \"aktor\": [\"Matthew McConaughey\"], \"yonetmen\": [\"Christopher Nolan\"], \"yapimyili\": [\"2014\"]},\n",
        "                   \"Star Wars 1\": {\"Kategori\": [\"Bilim Kurgu\"], \"aktor\": [\"Carrie Fischer\"], \"yonetmen\": [\"George Lucas\"], \"yapimyili\": [\"1999\"]}}\n",
        "\n",
        "print(\"HOSGELDiNiZ. Sizden film secmenizi istiyoruz\")\n",
        "filmsec = input(\"Recep İvedik 1, Harry Potter:Felsefe tasi, Yuzuklerin Efendisi, Aclik Oyunlari, Oppenheimer, Recep İvedik 2, Hababam Sinifi, Interstellar, Star Wars 1 filmlerinden birini sec: \")\n",
        "if filmsec == \"Recep İvedik 1\":\n",
        "    print(film_veritabani[\"Recep İvedik 1\"])\n",
        "elif filmsec == \"Yuzuklerin Efendisi\":\n",
        "    print(film_veritabani[\"Yuzuklerin Efendisi\"])\n",
        "elif filmsec == \"Harry Potter:Felsefe tasi\":\n",
        "    print(film_veritabani[\"Harry Potter:Felsefe tasi\"])\n",
        "elif filmsec == \"Aclik Oyunlari\":\n",
        "    print(film_veritabani[\"Aclik Oyunlari\"])\n",
        "elif filmsec == \"Oppenheimer\":\n",
        "    print(film_veritabani[\"Oppenheimer\"])\n",
        "elif filmsec == \"Recep İvedik 2\":\n",
        "    print(film_veritabani[\"Recep İvedik 2\"])\n",
        "elif filmsec == \"Hababam Sinifi\":\n",
        "    print(film_veritabani[\"Hababam Sinifi\"])\n",
        "elif filmsec == \"Interstellar\":\n",
        "    print(film_veritabani[\"Interstellar\"])\n",
        "elif filmsec == \"Star Wars 1\":\n",
        "    print(film_veritabani[\"Star Wars 1\"])\n",
        "\n"
      ],
      "metadata": {
        "colab": {
          "base_uri": "https://localhost:8080/"
        },
        "id": "v-9uHXK4aZ5y",
        "outputId": "0454dc64-7249-4d0b-d548-e30c3bcecd0b"
      },
      "execution_count": null,
      "outputs": [
        {
          "output_type": "stream",
          "name": "stdout",
          "text": [
            "HOSGELDiNiZ. Sizden film secmenizi istiyoruz\n",
            "Recep İvedik 1, Harry Potter:Felsefe tasi, Yuzuklerin Efendisi, Aclik Oyunlari, Oppenheimer, Recep İvedik 2, Hababam Sinifi, Interstellar, Star Wars 1 filmlerinden birini sec: Star Wars 1\n",
            "{'Kategori': ['Bilim Kurgu'], 'aktor': ['Carrie Fischer'], 'yonetmen': ['George Lucas'], 'yapimyili': ['1999']}\n"
          ]
        }
      ]
    },
    {
      "cell_type": "code",
      "source": [
        "# ciğerci ve enwer ile birlikte yaptık ama haritayı beceremedik.\n",
        "kullanıcı_data = {}\n",
        "\n",
        "\n",
        "def kullanıcı_ekle(email, password):\n",
        "    kullanıcı_data[email] = password\n",
        "\n",
        "\n",
        "\n",
        "def sifre_degis(email, new_password):\n",
        "\n",
        "    if email in kullanıcı_data:\n",
        "\n",
        "        kullanıcı_data[email] = new_password\n",
        "        print(f\"{email}'li kullanıcının şifresi değiştirildi -> {new_password}\")\n",
        "    else:\n",
        "        print(\"Gmail daha önce kayıt yapmadı\")\n",
        "\n",
        "class Karakter:\n",
        "    def __init__(self, sac_rengi, sac_tipi, cinsiyet, vucut_tipi, ten_rengi, goz_rengi, karakter_sinifi, sakal_uzunlugu=None):\n",
        "        self.sac_rengi = sac_rengi\n",
        "        self.sac_tipi = sac_tipi\n",
        "        self.cinsiyet = cinsiyet\n",
        "        self.vucut_tipi = vucut_tipi\n",
        "        self.ten_rengi = ten_rengi\n",
        "        self.goz_rengi = goz_rengi\n",
        "        self.karakter_sinifi = karakter_sinifi\n",
        "        self.sakal_uzunlugu = sakal_uzunlugu if cinsiyet.lower() == \"erkek\" else None\n",
        "\n",
        "sac_rengi = input(\"Saç rengini girin: \")\n",
        "sac_tipi = input(\"Saç tipini girin: \")\n",
        "cinsiyet = input(\"Karakter cinsiyetini girin: (Kadın/Erkek)\")\n",
        "vucut_tipi = input(\"Vucut tipini girin: \")\n",
        "ten_rengi = input(\"Ten rengini girin: \")\n",
        "goz_rengi = input(\"Göz rengini girin: \")\n",
        "karakter_sinifi = input(\"Karakter sınıfını girin \")\n",
        "\n",
        "karakter = Karakter(sac_rengi, sac_tipi, cinsiyet, vucut_tipi, ten_rengi, goz_rengi, karakter_sinifi)\n",
        "\n",
        "\n",
        "\n",
        "\n",
        "\n",
        "\n",
        "\n",
        "\n",
        "\n",
        "\n",
        "\n",
        "\n",
        "\n",
        "\n",
        "\n",
        "\n",
        "\n",
        "\n",
        "\n",
        "\n",
        "\n"
      ],
      "metadata": {
        "id": "HZ_SS6FCvTkw"
      },
      "execution_count": null,
      "outputs": []
    },
    {
      "cell_type": "code",
      "source": [],
      "metadata": {
        "id": "TN1FmgefDHvw"
      },
      "execution_count": null,
      "outputs": []
    }
  ]
}